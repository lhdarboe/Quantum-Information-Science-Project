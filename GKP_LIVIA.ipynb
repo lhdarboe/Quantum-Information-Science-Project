{
 "cells": [
  {
   "cell_type": "code",
   "execution_count": 43,
   "id": "8ab49714",
   "metadata": {},
   "outputs": [],
   "source": [
    "import numpy as np\n",
    "import matplotlib.pyplot as plt\n",
    "import qutip as qt\n",
    "from qutip import (Qobj, about, basis, coherent, coherent_dm, create, destroy,\n",
    "                   expect, fock, fock_dm, mesolve, qeye, sigmax, sigmay,\n",
    "                   sigmaz, tensor, thermal_dm, anim_matrix_histogram,\n",
    "                   anim_fock_distribution)\n",
    "\n"
   ]
  },
  {
   "cell_type": "code",
   "execution_count": null,
   "id": "2cb0699e",
   "metadata": {},
   "outputs": [],
   "source": [
    "class operator:\n",
    "    def __init__(self, phi, z, n):\n",
    "        \"\"\"\n",
    "        r   : squeezing magnitude\n",
    "        phi : squeezing phase\n",
    "        dim : Hilbert space dimension\n",
    "        \"\"\"\n",
    "        self.phi = phi\n",
    "        self.z = z\n",
    "        self.n = n\n",
    "\n",
    "        a = destroy(n)\n",
    "        adag = a.dag()\n",
    "\n",
    "        exponent =  ((-phi*1j*a**2).expm()) - (phi*1j*adag**2).expm()\n",
    "\n",
    "        self.squeezing_operator = ( np.log(z)/2 * exponent ).expm()\n",
    "        self.rotation_operator = (1j * phi * adag * a).expm()\n",
    "\n",
    "class quadrature_operator:\n",
    "    def __init__(self, n):\n",
    "        self.n = n\n",
    "\n",
    "        a = destroy(n)\n",
    "        adag = a.dag()\n",
    "\n",
    "        self.x = (a + adag).norm()\n",
    "        self.p = 1j * (adag - a).norm()\n",
    "\n",
    "class transformation:\n",
    "    def __init__(self, operator, quadrature):\n",
    "        \"\"\"\n",
    "        operator : operator class instance\n",
    "        quadrature : quadrature_operator class instance\n",
    "        \"\"\"\n",
    "        self.operator = operator\n",
    "        self.quadrature = quadrature\n",
    "        self.transformation = operator.dag() * quadrature + operator \n"
   ]
  },
  {
   "cell_type": "code",
   "execution_count": 55,
   "id": "a5fc5c07",
   "metadata": {},
   "outputs": [
    {
     "name": "stdout",
     "output_type": "stream",
     "text": [
      "Quantum object: dims=[[3], [3]], shape=(3, 3), type='oper', dtype=Dense, isherm=False\n",
      "Qobj data =\n",
      "[[0.71798519+0.j         0.        +0.j         0.        -0.69605838j]\n",
      " [0.        +0.j         1.        +0.j         0.        +0.j        ]\n",
      " [0.        -0.69605838j 0.        +0.j         0.71798519+0.j        ]]\n"
     ]
    }
   ],
   "source": [
    "s = operator(phi=np.pi/2, z=2, dim=3)\n",
    "print(s.squeezing_operator)\n",
    "\n",
    "quadratures = quadrature_operator(dim=3)\n"
   ]
  },
  {
   "cell_type": "code",
   "execution_count": 31,
   "id": "244168ac",
   "metadata": {},
   "outputs": [
    {
     "data": {
      "text/latex": [
       "Quantum object: dims=[[8], [8]], shape=(8, 8), type='oper', dtype=Dia, isherm=True$$\\left(\\begin{array}{cc}0 & 1 & 0 & 0 & 0 & 0 & 0 & 0\\\\1 & 0 & 1.414 & 0 & 0 & 0 & 0 & 0\\\\0 & 1.414 & 0 & 1.732 & 0 & 0 & 0 & 0\\\\0 & 0 & 1.732 & 0 & 2 & 0 & 0 & 0\\\\0 & 0 & 0 & 2 & 0 & 2.236 & 0 & 0\\\\0 & 0 & 0 & 0 & 2.236 & 0 & 2.449 & 0\\\\0 & 0 & 0 & 0 & 0 & 2.449 & 0 & 2.646\\\\0 & 0 & 0 & 0 & 0 & 0 & 2.646 & 0\\end{array}\\right)$$"
      ],
      "text/plain": [
       "Quantum object: dims=[[8], [8]], shape=(8, 8), type='oper', dtype=Dia, isherm=True\n",
       "Qobj data =\n",
       "[[0.         1.         0.         0.         0.         0.\n",
       "  0.         0.        ]\n",
       " [1.         0.         1.41421356 0.         0.         0.\n",
       "  0.         0.        ]\n",
       " [0.         1.41421356 0.         1.73205081 0.         0.\n",
       "  0.         0.        ]\n",
       " [0.         0.         1.73205081 0.         2.         0.\n",
       "  0.         0.        ]\n",
       " [0.         0.         0.         2.         0.         2.23606798\n",
       "  0.         0.        ]\n",
       " [0.         0.         0.         0.         2.23606798 0.\n",
       "  2.44948974 0.        ]\n",
       " [0.         0.         0.         0.         0.         2.44948974\n",
       "  0.         2.64575131]\n",
       " [0.         0.         0.         0.         0.         0.\n",
       "  2.64575131 0.        ]]"
      ]
     },
     "execution_count": 31,
     "metadata": {},
     "output_type": "execute_result"
    }
   ],
   "source": [
    "# the position operator is easily constructed from the annihilation operator\n",
    "a = destroy(8)\n",
    "\n",
    "x = a + a.dag()\n",
    "\n",
    "x"
   ]
  },
  {
   "cell_type": "code",
   "execution_count": null,
   "id": "69931298",
   "metadata": {},
   "outputs": [],
   "source": []
  }
 ],
 "metadata": {
  "kernelspec": {
   "display_name": "quantum-information-science-project-1 (3.13.1)",
   "language": "python",
   "name": "python3"
  },
  "language_info": {
   "codemirror_mode": {
    "name": "ipython",
    "version": 3
   },
   "file_extension": ".py",
   "mimetype": "text/x-python",
   "name": "python",
   "nbconvert_exporter": "python",
   "pygments_lexer": "ipython3",
   "version": "3.13.1"
  }
 },
 "nbformat": 4,
 "nbformat_minor": 5
}
