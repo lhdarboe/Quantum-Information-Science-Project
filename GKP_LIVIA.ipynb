{
 "cells": [
  {
   "cell_type": "code",
   "execution_count": 94,
   "id": "8ab49714",
   "metadata": {},
   "outputs": [],
   "source": [
    "import numpy as np\n",
    "import matplotlib.pyplot as plt\n",
    "import qutip as qt\n",
    "from qutip import *\n",
    "\n"
   ]
  },
  {
   "cell_type": "code",
   "execution_count": 168,
   "id": "960999b9",
   "metadata": {},
   "outputs": [],
   "source": [
    "N1 = 4\n",
    "N2 = 4"
   ]
  },
  {
   "cell_type": "code",
   "execution_count": null,
   "id": "2cb0699e",
   "metadata": {},
   "outputs": [],
   "source": [
    "class quadrature_operator:\n",
    "    def __init__(self, n):\n",
    "        self.n = n\n",
    "\n",
    "        a = destroy(n)\n",
    "        adag = a.dag()\n",
    "\n",
    "        self.x = (a + adag)*1/np.sqrt(2)\n",
    "        self.p = 1j * (adag - a)*1/np.sqrt(2)\n",
    "\n",
    "class operator:\n",
    "    def __init__(self,n):\n",
    "        self.n = n\n",
    "\n",
    "        a = destroy(self.n)\n",
    "        adag = a.dag()\n",
    "\n",
    "        self.a = a\n",
    "        self.adag = adag\n",
    "\n",
    "    def squeezing_operator(self,phi,z):\n",
    "\n",
    "        exponent =  ((-phi*1j*self.a**2).expm()) - (phi*1j*self.adag**2).expm()\n",
    "        self.squeezing_operator = ( np.log(z)/2 * exponent ).expm()\n",
    "\n",
    "        return self.squeezing_operator\n",
    "\n",
    "    def rotation_operator(self,phi):\n",
    "        self.rotation_operator = (1j * phi * self.adag * self.a).expm()\n",
    "        return self.rotation_operator\n",
    "\n",
    "    def beamsplitter_operator(self,theta, N1, N2):\n",
    "\n",
    "        self.theta = theta\n",
    "        self.N1 = N1\n",
    "        self.N2 = N2\n",
    "\n",
    "        a1 = destroy(N1)\n",
    "        a2 = destroy(N2)\n",
    "\n",
    "        x1 = (a1 + a1.dag())/np.sqrt(2)\n",
    "        p1 = (a1 - a1.dag())/(1j*np.sqrt(2))\n",
    "        x2 = (a2 + a2.dag())/np.sqrt(2)\n",
    "        p2 = (a2 - a2.dag())/(1j*np.sqrt(2))\n",
    "\n",
    "        bs = ((p1 * x2 - p2 * x1) * 1j * theta ).expm()\n",
    "\n",
    "        return bs\n",
    "    \n",
    "    def displacement_operator_x(self,s, p):\n",
    "        self.s = s\n",
    "        self.p = p\n",
    "\n",
    "        self.displacement_operator = (- 1j * s * p).expm()\n",
    "        return self.displacement_operator\n",
    "    \n",
    "    def vacuum_state(self):\n",
    "        vacuum = basis(self.n,0)\n",
    "\n",
    "        return vacuum\n",
    "\n",
    "    \n",
    "class transformation:\n",
    "    def __init__(self, operator, quadrature):\n",
    "\n",
    "        self.operator = operator\n",
    "        self.quadrature = quadrature\n",
    "        self.transformation = operator.dag() * quadrature * operator \n"
   ]
  },
  {
   "cell_type": "code",
   "execution_count": null,
   "id": "a5fc5c07",
   "metadata": {},
   "outputs": [],
   "source": [
    "op = operator(n=N1)\n",
    "\n",
    "delta_x = 0.1\n",
    "delta_p = delta_x"
   ]
  },
  {
   "cell_type": "markdown",
   "id": "043ba170",
   "metadata": {},
   "source": [
    "$ \\ket{j, \\Delta_x, \\Delta_p} = \\sum_n{ e^{-\\frac{1}{2}\\cdot \\Delta_p^2((2n + j)\\sqrt{\\pi\\hbar})^2}\\hat{X}}(2n + j)\\sqrt{\\pi\\hbar}\\ket{\\Delta_x}$\n",
    "\n",
    "$\\ket{\\Delta_x}=\\hat{S}(\\Delta_x^{-1})\\ket{0}$"
   ]
  },
  {
   "cell_type": "markdown",
   "id": "e9866d55",
   "metadata": {},
   "source": []
  },
  {
   "cell_type": "code",
   "execution_count": null,
   "id": "f1466ff8",
   "metadata": {},
   "outputs": [],
   "source": [
    "#vacuum = op.vacuum_state()\n",
    "squeezing = op.squeezing_operator(phi = 0, z=1/delta_x)\n",
    "displacement = op.displacement_operator_x(s=0, p=1/delta_p)"
   ]
  },
  {
   "cell_type": "code",
   "execution_count": null,
   "id": "7972190d",
   "metadata": {},
   "outputs": [],
   "source": []
  }
 ],
 "metadata": {
  "kernelspec": {
   "display_name": "quantum-information-science-project-1 (3.13.1)",
   "language": "python",
   "name": "python3"
  },
  "language_info": {
   "codemirror_mode": {
    "name": "ipython",
    "version": 3
   },
   "file_extension": ".py",
   "mimetype": "text/x-python",
   "name": "python",
   "nbconvert_exporter": "python",
   "pygments_lexer": "ipython3",
   "version": "3.13.1"
  }
 },
 "nbformat": 4,
 "nbformat_minor": 5
}
