{
 "cells": [
  {
   "cell_type": "markdown",
   "id": "b74f68e1",
   "metadata": {},
   "source": [
    "Introduction to Gaussian States"
   ]
  },
  {
   "cell_type": "code",
   "execution_count": 28,
   "id": "8493abd8",
   "metadata": {},
   "outputs": [],
   "source": [
    "# First of all we need to import the necessary libraries\n",
    "\n",
    "import numpy as np\n",
    "import matplotlib.pyplot as plt\n",
    "import ipywidgets as widgets\n",
    "from matplotlib.patches import Ellipse\n",
    "from mpl_toolkits.mplot3d import Axes3D  # 3D projection\n",
    "from IPython.display import display, clear_output\n",
    "from numba import njit\n",
    "from numpy.typing import NDArray"
   ]
  },
  {
   "attachments": {
    "image.png": {
     "image/png": "[encoded data removed]"
    }
   },
   "cell_type": "markdown",
   "id": "3f7c72df",
   "metadata": {},
   "source": [
    "First of all we wish to define our Wigner function as below\n",
    "![image.png](attachment:image.png)"
   ]
  },
  {
   "cell_type": "code",
   "execution_count": 54,
   "id": "47de5b6e",
   "metadata": {},
   "outputs": [
    {
     "name": "stdout",
     "output_type": "stream",
     "text": [
      "1.91 s ± 29.2 ms per loop (mean ± std. dev. of 7 runs, 1 loop each)\n"
     ]
    }
   ],
   "source": [
    "# OLD We define a function to compute the Wigner function for a Gaussian state for n = 1\n",
    "\n",
    "grid_points = 300\n",
    "x = np.linspace(-5, 5, grid_points)\n",
    "p = np.linspace(-5, 5, grid_points)\n",
    "\n",
    "\n",
    "def wigner_function(x, p, V, d):\n",
    "    X = np.array([x-d[0], p-d[1]]) # Corresponds to the displacement in phase space\n",
    "    det_V = np.linalg.det(V)\n",
    "    inv_V = np.linalg.inv(V)\n",
    "    exponent = -0.5 * (X.T @ inv_V @ X)\n",
    "    norm = 1 / (2*np.pi * np.sqrt(det_V)) # Note that we have n = 1\n",
    "    return norm * np.exp(exponent)\n",
    "\n",
    "\n",
    "\n",
    "def build_wigner_function(V: NDArray[np.float64], d: NDArray[np.float64]):\n",
    "    W = np.empty((grid_points, grid_points), dtype=np.float64)\n",
    "\n",
    "    for i in range(grid_points):\n",
    "        for j in range(grid_points):\n",
    "            W[j, i] = wigner_function(x[i], p[j], V, d)\n",
    "    return W\n",
    "\n",
    "%timeit build_wigner_function(np.array([[1, 0.5], [0.5, 1]]), np.array([2., -2.]))"
   ]
  },
  {
   "cell_type": "code",
   "execution_count": 55,
   "id": "a0171a6e",
   "metadata": {},
   "outputs": [
    {
     "name": "stdout",
     "output_type": "stream",
     "text": [
      "111 ms ± 2.09 ms per loop (mean ± std. dev. of 7 runs, 1 loop each)\n"
     ]
    }
   ],
   "source": [
    "# OLDNEW We define a function to compute the Wigner function for a Gaussian state for n = 1\n",
    "\n",
    "grid_points = 300\n",
    "x = np.linspace(-5, 5, grid_points)\n",
    "p = np.linspace(-5, 5, grid_points)\n",
    "\n",
    "@njit\n",
    "def wigner_function(x, p, V, d):\n",
    "    X = np.array([x-d[0], p-d[1]]) # Corresponds to the displacement in phase space\n",
    "    det_V = np.linalg.det(V)\n",
    "    inv_V = np.linalg.inv(V)\n",
    "    exponent = -0.5 * (X.T @ inv_V @ X)\n",
    "    norm = 1 / (2*np.pi * np.sqrt(det_V)) # Note that we have n = 1\n",
    "    return norm * np.exp(exponent)\n",
    "\n",
    "\n",
    "@njit\n",
    "def build_wigner_function(V: NDArray[np.float64], d: NDArray[np.float64]):\n",
    "    W = np.empty((grid_points, grid_points), dtype=np.float64)\n",
    "\n",
    "    for i in range(grid_points):\n",
    "        for j in range(grid_points):\n",
    "            W[j, i] = wigner_function(x[i], p[j], V, d)\n",
    "    return W\n",
    "\n",
    "%timeit build_wigner_function(np.array([[1, 0.5], [0.5, 1]]), np.array([2., -2.]))"
   ]
  },
  {
   "cell_type": "code",
   "execution_count": 56,
   "id": "41abe4e2",
   "metadata": {},
   "outputs": [
    {
     "name": "stdout",
     "output_type": "stream",
     "text": [
      "23.1 ms ± 747 μs per loop (mean ± std. dev. of 7 runs, 1 loop each)\n"
     ]
    }
   ],
   "source": [
    "\n",
    "\n",
    "grid_points = 300\n",
    "x = np.linspace(-5, 5, grid_points)\n",
    "p = np.linspace(-5, 5, grid_points)\n",
    "\n",
    "@njit\n",
    "def wigner_function_numba(x: float, p: float, V: NDArray[np.float64], d: NDArray[np.float64], Vdet: float, Vinv: NDArray[np.float64]):\n",
    "    X = np.array([x - d[0], p - d[1]])\n",
    "    exponent = -0.5 * (X.T @ Vinv @ X)\n",
    "    norm = 1 / ((2 * np.pi) ** (len(d) / 2) * np.sqrt(Vdet))\n",
    "    return norm * np.exp(exponent)\n",
    "\n",
    "@njit\n",
    "def build_wigner_function_numba(V: NDArray[np.float64], d: NDArray[np.float64]):\n",
    "    Vdet = np.linalg.det(V)\n",
    "    Vinv = np.linalg.inv(V)\n",
    "    W = np.empty((grid_points, grid_points), dtype=np.float64)\n",
    "\n",
    "    for i in range(grid_points):\n",
    "        for j in range(grid_points):\n",
    "            W[j, i] = wigner_function_numba(x[i], p[j], V, d, Vdet, Vinv)\n",
    "    return W\n",
    "\n",
    "%timeit build_wigner_function_numba(np.array([[1, 0.5], [0.5, 1]]), np.array([2., -2.]))\n"
   ]
  },
  {
   "cell_type": "code",
   "execution_count": 12,
   "id": "332007da",
   "metadata": {},
   "outputs": [],
   "source": [
    "def norm1():\n",
    "    \"\"\"Pure Python\"\"\"\n",
    "    return [sqrt(a[0]**2 + a[1]**2 + a[2]**2) for a in A]\n",
    "\n",
    "def norm2():\n",
    "    \"\"\"Simple NumPy using np.sum\"\"\"\n",
    "    return np.sqrt(np.sum(A**2, axis=1))\n",
    "\n",
    "def norm3():\n",
    "    \"\"\"np.linalg.norm\"\"\"\n",
    "    return np.linalg.norm(A, axis=1)\n",
    "\n",
    "@njit\n",
    "def norm4():\n",
    "    \"\"\"Numba on pure Python\"\"\"\n",
    "    return [np.sqrt(a[0]**2 + a[1]**2 + a[2]**2) for a in A]\n",
    "\n",
    "@njit\n",
    "def norm5():\n",
    "    \"\"\"Numba on simple NumPy\"\"\"\n",
    "    return np.sqrt(np.sum(A**2, axis=1))\n",
    "\n",
    "@njit\n",
    "def norm6():\n",
    "    \"\"\"Numba on NumPy with 'manual' sum of coordinates\"\"\"\n",
    "    A1, A2, A3 = A.T\n",
    "    return np.sqrt(A1**2 + A2**2 + A3**2)\n",
    "    \n",
    "def norm7():\n",
    "    \"\"\"numexpr on simple NumPy (but np.sqrt external since sum must be evaluated last)\"\"\"\n",
    "    return np.sqrt(ne.evaluate('sum(A**2, axis=1)'))\n",
    "\n",
    "def norm8():\n",
    "    \"\"\"numexpr on NumPy with 'manual' sum of coordinates\"\"\"\n",
    "    A1, A2, A3 = A.T\n",
    "    return ne.evaluate('sqrt(A1**2 + A2**2 + A3**2)')"
   ]
  },
  {
   "cell_type": "markdown",
   "id": "22295c67",
   "metadata": {},
   "source": [
    "# Basics of Gaussian States (not complete)\n",
    "A Gaussian state is a state, which is represented by a Gaussian distribution when acted upon by a Wigner Function, and is therefore completely described by the center of displacement $\\bar{r}$ and the covariance matrix $\\sigma$ (denoted V in the code). The covariance matrix describing the Gaussian state keeps information about the uncertainty (variance) and covariance, and the actions upon the state (squeezing, rotation) can be implemented directly onto the base form of the covariance matrix:\n",
    "\n",
    "$\\sigma = \\frac{1}{2}\\begin{bmatrix} 1 & 0 \\\\ 0 & 1 \\end{bmatrix} \\underset{\\text{Implement Squeezing}}{\\longrightarrow} \\frac{1}{2}\\begin{bmatrix} \\mathrm{e}^{-2r} & 0 \\\\ 0 & \\mathrm{e}^{2r} \\end{bmatrix} \\underset{\\text{Implement Rotation}}{\\longrightarrow} R(\\phi) \\frac{1}{2}\\begin{bmatrix} \\mathrm{e}^{-2r} & 0 \\\\ 0 & \\mathrm{e}^{2r} \\end{bmatrix} R(\\phi)^{\\mathrm{T}} $\n",
    "\n",
    "And furthermore you can alter the center of the Gaussian distribution of the Gaussian State by displacing the center"
   ]
  },
  {
   "cell_type": "markdown",
   "id": "da65d375",
   "metadata": {},
   "source": [
    "Now we create an updatable plot function of the Wigner function with sliders for the covariance matrix and displacement\n",
    "We wish to produce a 2D plot of the 2sigma contour of the Wigner Function in phase space"
   ]
  },
  {
   "cell_type": "code",
   "execution_count": 13,
   "id": "fa683d0a",
   "metadata": {},
   "outputs": [
    {
     "data": {
      "application/vnd.jupyter.widget-view+json": {
       "model_id": "30a05ffeac2440e6bd853199d09e41e6",
       "version_major": 2,
       "version_minor": 0
      },
      "text/plain": [
       "VBox(children=(HBox(children=(FloatSlider(value=0.3, description='r', max=1.0, min=-1.0, step=0.01), FloatSlid…"
      ]
     },
     "metadata": {},
     "output_type": "display_data"
    },
    {
     "data": {
      "application/vnd.jupyter.widget-view+json": {
       "model_id": "10e071e2ec214eb2a0253c749ed645fe",
       "version_major": 2,
       "version_minor": 0
      },
      "text/plain": [
       "Output()"
      ]
     },
     "metadata": {},
     "output_type": "display_data"
    }
   ],
   "source": [
    "\n",
    "def update_plot(r=0.3, theta=0, dx=0, dp=0): # Using default values for the sliders\n",
    "    fig, ax = plt.subplots(figsize=(5, 5))\n",
    "\n",
    "    # Convert angle to radians\n",
    "    d = np.array([dx, dp])\n",
    "\n",
    "    # Covariance matrix V, possibly rotated\n",
    "    V0 = np.diag([np.exp(-2*r), np.exp(2*r)])\n",
    "    R = np.array([[np.cos(theta), -np.sin(theta)],\n",
    "                  [np.sin(theta),  np.cos(theta)]])\n",
    "    V = R @ V0 @ R.T\n",
    "\n",
    "    # 2σ ellipse parameters\n",
    "    sigma_level = 2 # To enclose approximately 95% of the probability\n",
    "    chi2_val = sigma_level**2\n",
    "    vals, vecs = np.linalg.eigh(V) #Extract eigenvalues and eigenvectors, which describe variances and directions\n",
    "    order = vals.argsort()[::-1] # Sort eigenvalues in descending order such that the largest eigenvalue comes first\n",
    "    vals, vecs = vals[order], vecs[:, order] # Order it for the ellipse function coding\n",
    "\n",
    "    width, height = 2 * np.sqrt(chi2_val * vals) # Dimensions of ellipse\n",
    "    angle = np.degrees(np.arctan2(*vecs[:, 0][::-1]))\n",
    "\n",
    "    # Draw ellipse\n",
    "    ellipse = Ellipse(xy=d, width=width, height=height, angle=angle,\n",
    "                      edgecolor='crimson', fc='none', lw=2, label='2σ Contour')\n",
    "    ax.add_patch(ellipse)\n",
    "\n",
    "    # Plot settings\n",
    "    ax.set_xlim(-5, 5)\n",
    "    ax.set_ylim(-5, 5)\n",
    "    ax.set_aspect('equal')\n",
    "    ax.axhline(0, color='black', lw=0.5, ls='--') # For visual reference\n",
    "    ax.axvline(0, color='black', lw=0.5, ls='--')\n",
    "    ax.set_xlabel('$x$')\n",
    "    ax.set_ylabel('$p$')\n",
    "    ax.set_title(\"Gaussian 2σ Contour in Phase Space\")\n",
    "    ax.legend()\n",
    "    ax.grid(True)\n",
    "    plt.tight_layout()\n",
    "    plt.show()\n",
    "\n",
    "# Sliders to adjust function parameters using FloatSlider for non-integer values\n",
    "r_slider = widgets.FloatSlider(value=0.3, min=-1.0, max=1.0, step=0.01, description='r')\n",
    "theta_slider = widgets.FloatSlider(value=0.0, min=0.0, max=2*np.pi, step=0.05, description='θ (deg)')\n",
    "dx_slider = widgets.FloatSlider(value=0.0, min=-3.0, max=3.0, step=0.1, description='x₀')\n",
    "dp_slider = widgets.FloatSlider(value=0.0, min=-3.0, max=3.0, step=0.1, description='p₀')\n",
    "\n",
    "# Reset function to recover initial values of function parameters\n",
    "def reset_sliders(b):\n",
    "    r_slider.value = 0.3\n",
    "    theta_slider.value = 0.0\n",
    "    dx_slider.value = 0.0\n",
    "    dp_slider.value = 0.0\n",
    "\n",
    "# --- Create the button for reset ---\n",
    "reset_button = widgets.Button(description='Reset', button_style='warning')\n",
    "reset_button.on_click(reset_sliders)\n",
    "\n",
    "# --- Layout and display ---\n",
    "ui = widgets.VBox([\n",
    "    widgets.HBox([r_slider, theta_slider]),\n",
    "    widgets.HBox([dx_slider, dp_slider]),\n",
    "    reset_button\n",
    "])\n",
    "\n",
    "out = widgets.interactive_output(update_plot, {\n",
    "    'r': r_slider,\n",
    "    'theta': theta_slider,\n",
    "    'dx': dx_slider,\n",
    "    'dp': dp_slider\n",
    "})\n",
    "\n",
    "display(ui, out)\n",
    "\n"
   ]
  },
  {
   "cell_type": "markdown",
   "id": "d37465bd",
   "metadata": {},
   "source": [
    "Now, we can also represent the Wigner function (probabilty) in 3D, using the same logic"
   ]
  },
  {
   "cell_type": "code",
   "execution_count": 12,
   "id": "178ef56b",
   "metadata": {},
   "outputs": [
    {
     "data": {
      "application/vnd.jupyter.widget-view+json": {
       "model_id": "370da842cd084d6095f92caafc807628",
       "version_major": 2,
       "version_minor": 0
      },
      "text/plain": [
       "VBox(children=(HBox(children=(FloatSlider(value=0.3, description='r (squeeze)', max=1.0, min=-1.0, step=0.01),…"
      ]
     },
     "metadata": {},
     "output_type": "display_data"
    },
    {
     "data": {
      "application/vnd.jupyter.widget-view+json": {
       "model_id": "5abc228756334435ade2d09e69123eb4",
       "version_major": 2,
       "version_minor": 0
      },
      "text/plain": [
       "Output()"
      ]
     },
     "metadata": {},
     "output_type": "display_data"
    }
   ],
   "source": [
    "# ---- Interactive plotting function in 3D ----\n",
    "def update_plot(r=0.3, theta=0.0, dx=0.0, dp=0.0):\n",
    "    # Grid\n",
    "    x = np.linspace(-5, 5, 100)\n",
    "    p = np.linspace(-5, 5, 100)\n",
    "    X, P = np.meshgrid(x, p)\n",
    "\n",
    "    # Covariance matrix\n",
    "    R = np.array([[np.cos(theta), -np.sin(theta)],\n",
    "                  [np.sin(theta),  np.cos(theta)]])\n",
    "    V0 = np.diag([np.exp(-2*r), np.exp(2*r)])\n",
    "    V = R @ V0 @ R.T # Here we can both rotate and squeeze the covariance matrix\n",
    "    d = np.array([dx, dp]) # This defines the displacement in phase space\n",
    "\n",
    "    # Evaluate Wigner function\n",
    "    W = np.zeros_like(X)\n",
    "    for i in range(len(x)):\n",
    "        for j in range(len(p)):\n",
    "            W[j, i] = wigner_function(x[i], p[j], V, d)\n",
    "\n",
    "    # Plot\n",
    "    fig = plt.figure(figsize=(7, 6))\n",
    "    ax = fig.add_subplot(111, projection='3d')\n",
    "\n",
    "    # Wireframe instead of surface\n",
    "    ax.plot_wireframe(X, P, W, color='royalblue', linewidth=0.6)\n",
    "\n",
    "    # Shadow on z=0 plane\n",
    "    ax.contourf(X, P, W, zdir='z', offset=0, levels=50, cmap='Blues', alpha=0.5)\n",
    "\n",
    "    # Labels and view\n",
    "    ax.set_xlabel('$x$')\n",
    "    ax.set_ylabel('$p$')\n",
    "    ax.set_zlabel('$W(x,p)$')\n",
    "    ax.set_title(\"Wigner Function (3D)\")\n",
    "    ax.view_init(elev=30, azim=60)\n",
    "    plt.tight_layout()\n",
    "    plt.show()\n",
    "\n",
    "# ---- Sliders ----\n",
    "r_slider = widgets.FloatSlider(value=0.3, min=-1.0, max=1.0, step=0.01, description='r (squeeze)')\n",
    "theta_slider = widgets.FloatSlider(value=0.0, min=0.0, max=2*np.pi, step=0.05, description='θ (rad)')\n",
    "dx_slider = widgets.FloatSlider(value=0.0, min=-3.0, max=3.0, step=0.1, description='x₀')\n",
    "dp_slider = widgets.FloatSlider(value=0.0, min=-3.0, max=3.0, step=0.1, description='p₀')\n",
    "\n",
    "# --- Reset function ---\n",
    "def reset_sliders(b):\n",
    "    r_slider.value, theta_slider.value, dx_slider.value, dp_slider.value = 0.3, 0.0, 0.0, 0.0\n",
    "\n",
    "\n",
    "# --- Create the button ---\n",
    "reset_button = widgets.Button(description='Reset', button_style='warning')\n",
    "reset_button.on_click(reset_sliders)\n",
    "\n",
    "# --- Layout and display ---\n",
    "ui = widgets.VBox([\n",
    "    widgets.HBox([r_slider, theta_slider]),\n",
    "    widgets.HBox([dx_slider, dp_slider]),\n",
    "    reset_button\n",
    "])\n",
    "\n",
    "out = widgets.interactive_output(update_plot, {\n",
    "    'r': r_slider,\n",
    "    'theta': theta_slider,\n",
    "    'dx': dx_slider,\n",
    "    'dp': dp_slider\n",
    "})\n",
    "\n",
    "display(ui, out)\n"
   ]
  }
 ],
 "metadata": {
  "kernelspec": {
   "display_name": "sciqis",
   "language": "python",
   "name": "python3"
  },
  "language_info": {
   "codemirror_mode": {
    "name": "ipython",
    "version": 3
   },
   "file_extension": ".py",
   "mimetype": "text/x-python",
   "name": "python",
   "nbconvert_exporter": "python",
   "pygments_lexer": "ipython3",
   "version": "3.13.2"
  }
 },
 "nbformat": 4,
 "nbformat_minor": 5
}
